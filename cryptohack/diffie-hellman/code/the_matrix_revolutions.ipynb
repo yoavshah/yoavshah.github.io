{
 "cells": [
  {
   "cell_type": "code",
   "execution_count": 1,
   "metadata": {},
   "outputs": [
    {
     "name": "stdout",
     "output_type": "stream",
     "text": [
      "1\n"
     ]
    }
   ],
   "source": [
    "from Crypto.Cipher import AES\n",
    "from Crypto.Hash import SHA256\n",
    "from Crypto.Util.number import *\n",
    "from Crypto.Util.Padding import pad, unpad\n",
    "import sys\n",
    "import json\n",
    "from os import urandom\n",
    "\n",
    "\n",
    "FLAG = b'crypto{????????????????????????????????????????}'\n",
    "\n",
    "P = 2\n",
    "N = 150\n",
    "\n",
    "def load_matrix(fname):\n",
    "    data = open(fname, 'r').read().strip()\n",
    "    rows = [list(map(int, row)) for row in data.splitlines()]\n",
    "    return Matrix(GF(P), rows)\n",
    "\n",
    "def save_matrix(M, fname):\n",
    "    open(fname, 'w').write('\\n'.join(''.join(str(x) for x in row) for row in M))\n",
    "\n",
    "KEY_LENGTH = 128\n",
    "def derive_aes_key(M):\n",
    "    mat_str = ''.join(str(x) for row in M for x in row)\n",
    "    return SHA256.new(data=mat_str.encode()).digest()[:KEY_LENGTH]\n",
    "\n",
    "G = load_matrix(\"files\\\\the_matrix_revolutions\\\\generator.txt\")\n",
    "\n",
    "# A_pub = G^A_priv\n",
    "# B_pub = G^B_priv\n",
    "A_pub = load_matrix(\"files\\\\the_matrix_revolutions\\\\alice.pub\")\n",
    "B_pub = load_matrix(\"files\\\\the_matrix_revolutions\\\\bob.pub\")\n",
    "\n",
    "\n",
    "gen_eigen_vals = G.eigenvalues()\n",
    "print(G.determinant())\n"
   ]
  },
  {
   "cell_type": "code",
   "execution_count": 9,
   "metadata": {},
   "outputs": [
    {
     "name": "stdout",
     "output_type": "stream",
     "text": [
      "1427247692705959880439315947500961989719490561\n",
      "1427247692705959880439315947500961989719490561\n",
      "1427247692705959880439315947500961989719490561\n"
     ]
    }
   ],
   "source": [
    "mm = G.multiplicative_order()\n",
    "mm_A = A_pub.multiplicative_order()\n",
    "mm_B = B_pub.multiplicative_order()\n",
    "\n",
    "\n",
    "# 150 bit length\n",
    "print(mm)\n",
    "print(mm_A)\n",
    "print(mm_B)\n"
   ]
  },
  {
   "cell_type": "code",
   "execution_count": 6,
   "metadata": {},
   "outputs": [
    {
     "name": "stdout",
     "output_type": "stream",
     "text": [
      "2\n",
      "{x^61 + x^57 + x^55 + x^53 + x^51 + x^50 + x^47 + x^46 + x^45 + x^44 + x^43 + x^40 + x^34 + x^32 + x^31 + x^30 + x^28 + x^23 + x^21 + x^19 + x^13 + x^12 + x^11 + x^7 + x^4 + x^3 + x^2 + x + 1: 61, x^89 + x^84 + x^82 + x^80 + x^77 + x^76 + x^75 + x^74 + x^68 + x^67 + x^66 + x^64 + x^63 + x^62 + x^57 + x^53 + x^52 + x^51 + x^50 + x^43 + x^40 + x^39 + x^38 + x^36 + x^34 + x^33 + x^32 + x^31 + x^27 + x^24 + x^18 + x^17 + x^16 + x^14 + x^13 + x^12 + x^10 + x^9 + x^8 + x^7 + x^4 + x^3 + 1: 89}\n",
      "{89, 61}\n"
     ]
    },
    {
     "ename": "NameError",
     "evalue": "name 'irreducible_poly' is not defined",
     "output_type": "error",
     "traceback": [
      "\u001b[0;31m---------------------------------------------------------------------------\u001b[0m",
      "\u001b[0;31mNameError\u001b[0m                                 Traceback (most recent call last)",
      "\u001b[0;32m<ipython-input-6-7674ee3008c7>\u001b[0m in \u001b[0;36m<module>\u001b[0;34m\u001b[0m\n\u001b[1;32m     17\u001b[0m \u001b[0mprint\u001b[0m\u001b[0;34m(\u001b[0m\u001b[0mdegrees\u001b[0m\u001b[0;34m)\u001b[0m\u001b[0;34m\u001b[0m\u001b[0;34m\u001b[0m\u001b[0m\n\u001b[1;32m     18\u001b[0m \u001b[0;34m\u001b[0m\u001b[0m\n\u001b[0;32m---> 19\u001b[0;31m \u001b[0mprint\u001b[0m\u001b[0;34m(\u001b[0m\u001b[0mirreducible_poly\u001b[0m\u001b[0;34m)\u001b[0m\u001b[0;34m\u001b[0m\u001b[0;34m\u001b[0m\u001b[0m\n\u001b[0m",
      "\u001b[0;31mNameError\u001b[0m: name 'irreducible_poly' is not defined"
     ]
    }
   ],
   "source": [
    "degrees = set()\n",
    "eigen_vals = dict()\n",
    "for e in gen_eigen_vals:\n",
    "    if e.minpoly() not in eigen_vals.keys():\n",
    "        eigen_vals[e.minpoly()] = 1\n",
    "    else:\n",
    "        eigen_vals[e.minpoly()] += 1\n",
    "        \n",
    "    degrees.add(e.minpoly().degree())\n",
    "    \n",
    "m = 1\n",
    "for d in list(degrees):\n",
    "    m = m * d\n",
    "\n",
    "print(len(eigen_vals))    \n",
    "print(eigen_vals)    \n",
    "print(degrees)    \n",
    "\n",
    "print(irreducible_poly)\n"
   ]
  },
  {
   "cell_type": "code",
   "execution_count": 18,
   "metadata": {},
   "outputs": [
    {
     "ename": "TypeError",
     "evalue": "'NoneType' object is not callable",
     "output_type": "error",
     "traceback": [
      "\u001b[0;31m---------------------------------------------------------------------------\u001b[0m",
      "\u001b[0;31mTypeError\u001b[0m                                 Traceback (most recent call last)",
      "\u001b[0;32m<ipython-input-18-8c464d24f909>\u001b[0m in \u001b[0;36m<module>\u001b[0;34m\u001b[0m\n\u001b[1;32m     12\u001b[0m \u001b[0;31m# This is a brute-force approach to find an irreducible polynomial over GF_2p of degree q\u001b[0m\u001b[0;34m\u001b[0m\u001b[0;34m\u001b[0m\u001b[0;34m\u001b[0m\u001b[0m\n\u001b[1;32m     13\u001b[0m \u001b[0;31m#irreducible_poly = None\u001b[0m\u001b[0;34m\u001b[0m\u001b[0;34m\u001b[0m\u001b[0;34m\u001b[0m\u001b[0m\n\u001b[0;32m---> 14\u001b[0;31m \u001b[0mcheck\u001b[0m \u001b[0;34m=\u001b[0m \u001b[0mirreducible_poly\u001b[0m\u001b[0;34m(\u001b[0m\u001b[0mGF_2p\u001b[0m\u001b[0;34m,\u001b[0m \u001b[0mdegree\u001b[0m\u001b[0;34m=\u001b[0m\u001b[0mq\u001b[0m\u001b[0;34m)\u001b[0m\u001b[0;34m\u001b[0m\u001b[0;34m\u001b[0m\u001b[0m\n\u001b[0m\u001b[1;32m     15\u001b[0m \u001b[0mprint\u001b[0m\u001b[0;34m(\u001b[0m\u001b[0mcheck\u001b[0m\u001b[0;34m)\u001b[0m\u001b[0;34m\u001b[0m\u001b[0;34m\u001b[0m\u001b[0m\n\u001b[1;32m     16\u001b[0m \u001b[0;34m\u001b[0m\u001b[0m\n",
      "\u001b[0;31mTypeError\u001b[0m: 'NoneType' object is not callable"
     ]
    }
   ],
   "source": [
    "# Define the parameters p and q\n",
    "q = 61\n",
    "q = 89\n",
    "\n",
    "# Construct the Galois fields F2^p and F2^q\n",
    "GF_2p = GF(2**p)\n",
    "GF_2q = GF(2**q)\n",
    "\n",
    "# Find an irreducible polynomial of degree q over GF(2^p)\n",
    "# We can use the `irreducible_poly` function from the `galois` library\n",
    "\n",
    "# This is a brute-force approach to find an irreducible polynomial over GF_2p of degree q\n",
    "#irreducible_poly = None\n",
    "check = irreducible_poly(GF_2p, degree=q)\n",
    "print(check)\n",
    "\n",
    "for poly in check:\n",
    "    irreducible_poly = poly\n",
    "    break\n",
    "\n",
    "print(f\"Irreducible polynomial over GF(2^{p}) of degree {q}: {irreducible_poly}\")\n",
    "\n",
    "# Now construct the Galois field GF(2^(p*q))\n",
    "GF_2pq = galois.GF(2**(p*q), irreducible_poly=irreducible_poly)\n",
    "\n",
    "# Print the new field\n",
    "print(f\"Field GF(2^{p*q}) elements: {GF_2pq.elements}\")"
   ]
  },
  {
   "cell_type": "code",
   "execution_count": null,
   "metadata": {},
   "outputs": [],
   "source": [
    "# We know that the Jordan matrix is something like that\n",
    "\n"
   ]
  },
  {
   "cell_type": "code",
   "execution_count": null,
   "metadata": {},
   "outputs": [],
   "source": []
  },
  {
   "cell_type": "code",
   "execution_count": 26,
   "metadata": {
    "scrolled": true
   },
   "outputs": [
    {
     "name": "stdout",
     "output_type": "stream",
     "text": [
      "x^2 + 2*x + 4\n",
      "x^2 + 2*x + 4\n",
      "x^3 + 2*x^2 + 2*x + 2\n",
      "x^3 + 2*x^2 + 2*x + 2\n",
      "x^3 + 2*x^2 + 2*x + 2\n",
      "[4*z12^11 + 4*z12^10 + 2*z12^9 + 3*z12^7 + 4*z12^6 + 4*z12^5 + 3*z12^4 + 3*z12^3 + 4*z12^2 + 4*z12 + 4                                                                                                     0]\n",
      "[                                                                                                    0     z12^11 + 3*z12^10 + 4*z12^9 + 2*z12^8 + 3*z12^7 + 2*z12^6 + 2*z12^4 + z12^3 + 3*z12^2 + 3*z12 + 4]\n",
      "----------\n",
      "109555095\n",
      "38659594\n",
      "180234882\n",
      "192671828\n",
      "----------\n",
      "[2 1]\n",
      "[2 4]\n",
      "----------\n",
      "[2 1]\n",
      "[2 4]\n"
     ]
    }
   ],
   "source": [
    "def polynomial_to_number(polynomial, f):\n",
    "    terms = polynomial.split(' + ')\n",
    "    number = 0\n",
    "\n",
    "    for term in terms:\n",
    "        if term.isdigit():\n",
    "            number += int(term)\n",
    "            continue\n",
    "        \n",
    "        if \"^\" not in term:\n",
    "            exp = 1\n",
    "        else:\n",
    "            exp = int(term.split(\"^\")[1])\n",
    "        \n",
    "        if \"*\" not in term:\n",
    "            mul = 1\n",
    "        else:\n",
    "            mul = int(term.split(\"*\")[0]) \n",
    "        \n",
    "        number += mul * (f ** exp)\n",
    "\n",
    "    return number\n",
    "\n",
    "A = [[2, 1, 1, 1, 4],\n",
    "     [2, 4, 2, 4, 1],\n",
    "     [1, 0, 1, 4, 0],\n",
    "     [4, 4, 4, 3, 2],\n",
    "     [2, 0, 0, 4, 1]]\n",
    "\n",
    "A = Matrix(GF(5), A)\n",
    "\n",
    "e = A.eigenvalues()\n",
    "\n",
    "for ee in e:\n",
    "    print(ee.minpoly())\n",
    "\n",
    "    \n",
    "Fpow = GF(5**12)\n",
    "\n",
    "A_f =  A.change_ring(Fpow)\n",
    "#print(A_f)\n",
    "JJ, PP = A_f.jordan_form(transformation=True)\n",
    "\n",
    "test_j = JJ[range(0,2), range(0,2)]\n",
    "print(test_j)\n",
    "test_p = PP[range(0,2), range(0,2)]\n",
    "test_p_inv = PP.inverse()[range(0,2), range(0,2)]\n",
    "\n",
    "print(\"-\"*10)\n",
    "TT = test_p * test_j * test_p_inv\n",
    "print(polynomial_to_number(str(TT[0, 0]), 5))\n",
    "print(polynomial_to_number(str(TT[0, 1]), 5))\n",
    "print(polynomial_to_number(str(TT[1, 0]), 5))\n",
    "print(polynomial_to_number(str(TT[1, 1]), 5))\n",
    "\n",
    "print(\"-\"*10)\n",
    "print((PP * JJ * PP.inverse())[range(0,2), range(0,2)])\n",
    "print(\"-\"*10)\n",
    "print(A_f[range(0,2), range(0,2)])\n",
    "\n",
    "#print(str(PP[1,0]))\n",
    "#print(polynomial_to_number(str(PP[1,0]), 5))"
   ]
  },
  {
   "cell_type": "code",
   "execution_count": null,
   "metadata": {},
   "outputs": [],
   "source": [
    "\n",
    "A_priv = getPrime(149)\n",
    "B_priv = getPrime(149)\n",
    "A_pub = G^A_priv\n",
    "B_pub = G^B_priv\n",
    "\n",
    "shared_secret = A_pub^B_priv\n",
    "\n",
    "key = derive_aes_key(shared_secret)\n",
    "iv = urandom(16)\n",
    "cipher = AES.new(key, AES.MODE_CBC, iv)\n",
    "plaintext = pad(FLAG, 16)\n",
    "ciphertext = cipher.encrypt(plaintext)\n",
    "\n",
    "json.dump({\"iv\": iv.hex(), \"ciphertext\": ciphertext.hex()}, \n",
    "          open('flag.enc', 'w'))"
   ]
  }
 ],
 "metadata": {
  "kernelspec": {
   "display_name": "SageMath 9.3",
   "language": "sage",
   "name": "sagemath"
  },
  "language_info": {
   "codemirror_mode": {
    "name": "ipython",
    "version": 3
   },
   "file_extension": ".py",
   "mimetype": "text/x-python",
   "name": "python",
   "nbconvert_exporter": "python",
   "pygments_lexer": "ipython3",
   "version": "3.7.10"
  }
 },
 "nbformat": 4,
 "nbformat_minor": 4
}
